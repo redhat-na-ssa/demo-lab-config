{
 "cells": [
  {
   "cell_type": "markdown",
   "id": "ce10b948",
   "metadata": {},
   "source": [
    "# Script to test GPU availability in Tensorflow"
   ]
  },
  {
   "cell_type": "markdown",
   "id": "a8bd2c05",
   "metadata": {},
   "source": [
    "Check CUDA version, the connection with the CUDA libraries, validate that the NVIDIA drivers are available for the GPU, finally check if GPU is readable for the venv"
   ]
  },
  {
   "cell_type": "code",
   "execution_count": 49,
   "id": "2963e919",
   "metadata": {},
   "outputs": [
    {
     "name": "stdout",
     "output_type": "stream",
     "text": [
      "nvcc: NVIDIA (R) Cuda compiler driver\n",
      "Copyright (c) 2005-2022 NVIDIA Corporation\n",
      "Built on Wed_Sep_21_10:33:58_PDT_2022\n",
      "Cuda compilation tools, release 11.8, V11.8.89\n",
      "Build cuda_11.8.r11.8/compiler.31833905_0\n",
      "/usr/local/nvidia/lib:/usr/local/nvidia/lib64\n",
      "Thu Mar 28 21:08:17 2024       \n",
      "+-----------------------------------------------------------------------------------------+\n",
      "| NVIDIA-SMI 550.54.14              Driver Version: 550.54.14      CUDA Version: 12.4     |\n",
      "|-----------------------------------------+------------------------+----------------------+\n",
      "| GPU  Name                 Persistence-M | Bus-Id          Disp.A | Volatile Uncorr. ECC |\n",
      "| Fan  Temp   Perf          Pwr:Usage/Cap |           Memory-Usage | GPU-Util  Compute M. |\n",
      "|                                         |                        |               MIG M. |\n",
      "|=========================================+========================+======================|\n",
      "|   0  NVIDIA L40                     On  |   00000000:B5:00.0 Off |                    0 |\n",
      "| N/A   38C    P0             90W /  300W |     432MiB /  46068MiB |      0%      Default |\n",
      "|                                         |                        |                  N/A |\n",
      "+-----------------------------------------+------------------------+----------------------+\n",
      "                                                                                         \n",
      "+-----------------------------------------------------------------------------------------+\n",
      "| Processes:                                                                              |\n",
      "|  GPU   GI   CI        PID   Type   Process name                              GPU Memory |\n",
      "|        ID   ID                                                               Usage      |\n",
      "|=========================================================================================|\n",
      "+-----------------------------------------------------------------------------------------+\n"
     ]
    }
   ],
   "source": [
    "! nvcc --version\n",
    "! echo $LD_LIBRARY_PATH\n",
    "! nvidia-smi"
   ]
  },
  {
   "cell_type": "markdown",
   "id": "e1b06116",
   "metadata": {},
   "source": [
    "### Install TensorFlow as well as NVIDIA python libraries\n",
    "\n",
    "Note the following suggestion for CUDA 12: https://stackoverflow.com/a/77469526 as well as official installation instructions at: https://www.tensorflow.org/install/pip "
   ]
  },
  {
   "cell_type": "code",
   "execution_count": 50,
   "id": "6ee15fc8",
   "metadata": {
    "ExecuteTime": {
     "end_time": "2021-04-05T17:08:26.480557Z",
     "start_time": "2021-04-05T17:08:24.921114Z"
    }
   },
   "outputs": [
    {
     "name": "stdout",
     "output_type": "stream",
     "text": [
      "Defaulting to user installation because normal site-packages is not writeable\n",
      "Requirement already satisfied: pip in /home/user/.local/lib/python3.11/site-packages (24.0)\n",
      "Defaulting to user installation because normal site-packages is not writeable\n",
      "Requirement already satisfied: nvidia-cudnn-cu11 in /home/user/.local/lib/python3.11/site-packages (9.0.0.312)\n",
      "Requirement already satisfied: tensorflow[and-cuda] in /home/user/.local/lib/python3.11/site-packages (2.16.1)\n",
      "Requirement already satisfied: absl-py>=1.0.0 in /home/user/.local/lib/python3.11/site-packages (from tensorflow[and-cuda]) (2.1.0)\n",
      "Requirement already satisfied: astunparse>=1.6.0 in /home/user/.local/lib/python3.11/site-packages (from tensorflow[and-cuda]) (1.6.3)\n",
      "Requirement already satisfied: flatbuffers>=23.5.26 in /home/user/.local/lib/python3.11/site-packages (from tensorflow[and-cuda]) (24.3.25)\n",
      "Requirement already satisfied: gast!=0.5.0,!=0.5.1,!=0.5.2,>=0.2.1 in /home/user/.local/lib/python3.11/site-packages (from tensorflow[and-cuda]) (0.5.4)\n",
      "Requirement already satisfied: google-pasta>=0.1.1 in /home/user/.local/lib/python3.11/site-packages (from tensorflow[and-cuda]) (0.2.0)\n",
      "Requirement already satisfied: h5py>=3.10.0 in /home/user/.local/lib/python3.11/site-packages (from tensorflow[and-cuda]) (3.10.0)\n",
      "Requirement already satisfied: libclang>=13.0.0 in /home/user/.local/lib/python3.11/site-packages (from tensorflow[and-cuda]) (18.1.1)\n",
      "Requirement already satisfied: ml-dtypes~=0.3.1 in /home/user/.local/lib/python3.11/site-packages (from tensorflow[and-cuda]) (0.3.2)\n",
      "Requirement already satisfied: opt-einsum>=2.3.2 in /home/user/.local/lib/python3.11/site-packages (from tensorflow[and-cuda]) (3.3.0)\n",
      "Requirement already satisfied: packaging in /home/user/.local/lib/python3.11/site-packages (from tensorflow[and-cuda]) (24.0)\n",
      "Requirement already satisfied: protobuf!=4.21.0,!=4.21.1,!=4.21.2,!=4.21.3,!=4.21.4,!=4.21.5,<5.0.0dev,>=3.20.3 in /home/user/.local/lib/python3.11/site-packages (from tensorflow[and-cuda]) (4.25.3)\n",
      "Requirement already satisfied: requests<3,>=2.21.0 in /home/user/.local/lib/python3.11/site-packages (from tensorflow[and-cuda]) (2.31.0)\n",
      "Requirement already satisfied: setuptools in /usr/lib/python3.11/site-packages (from tensorflow[and-cuda]) (65.5.1)\n",
      "Requirement already satisfied: six>=1.12.0 in /home/user/.local/lib/python3.11/site-packages (from tensorflow[and-cuda]) (1.16.0)\n",
      "Requirement already satisfied: termcolor>=1.1.0 in /home/user/.local/lib/python3.11/site-packages (from tensorflow[and-cuda]) (2.4.0)\n",
      "Requirement already satisfied: typing-extensions>=3.6.6 in /home/user/.local/lib/python3.11/site-packages (from tensorflow[and-cuda]) (4.10.0)\n",
      "Requirement already satisfied: wrapt>=1.11.0 in /home/user/.local/lib/python3.11/site-packages (from tensorflow[and-cuda]) (1.16.0)\n",
      "Requirement already satisfied: grpcio<2.0,>=1.24.3 in /home/user/.local/lib/python3.11/site-packages (from tensorflow[and-cuda]) (1.62.1)\n",
      "Requirement already satisfied: tensorboard<2.17,>=2.16 in /home/user/.local/lib/python3.11/site-packages (from tensorflow[and-cuda]) (2.16.2)\n",
      "Requirement already satisfied: keras>=3.0.0 in /home/user/.local/lib/python3.11/site-packages (from tensorflow[and-cuda]) (3.1.1)\n",
      "Requirement already satisfied: tensorflow-io-gcs-filesystem>=0.23.1 in /home/user/.local/lib/python3.11/site-packages (from tensorflow[and-cuda]) (0.36.0)\n",
      "Requirement already satisfied: numpy<2.0.0,>=1.23.5 in /home/user/.local/lib/python3.11/site-packages (from tensorflow[and-cuda]) (1.26.4)\n",
      "Requirement already satisfied: nvidia-cublas-cu12==12.3.4.1 in /home/user/.local/lib/python3.11/site-packages (from tensorflow[and-cuda]) (12.3.4.1)\n",
      "Requirement already satisfied: nvidia-cuda-cupti-cu12==12.3.101 in /home/user/.local/lib/python3.11/site-packages (from tensorflow[and-cuda]) (12.3.101)\n",
      "Requirement already satisfied: nvidia-cuda-nvcc-cu12==12.3.107 in /home/user/.local/lib/python3.11/site-packages (from tensorflow[and-cuda]) (12.3.107)\n",
      "Requirement already satisfied: nvidia-cuda-nvrtc-cu12==12.3.107 in /home/user/.local/lib/python3.11/site-packages (from tensorflow[and-cuda]) (12.3.107)\n",
      "Requirement already satisfied: nvidia-cuda-runtime-cu12==12.3.101 in /home/user/.local/lib/python3.11/site-packages (from tensorflow[and-cuda]) (12.3.101)\n",
      "Requirement already satisfied: nvidia-cudnn-cu12==8.9.7.29 in /home/user/.local/lib/python3.11/site-packages (from tensorflow[and-cuda]) (8.9.7.29)\n",
      "Requirement already satisfied: nvidia-cufft-cu12==11.0.12.1 in /home/user/.local/lib/python3.11/site-packages (from tensorflow[and-cuda]) (11.0.12.1)\n",
      "Requirement already satisfied: nvidia-curand-cu12==10.3.4.107 in /home/user/.local/lib/python3.11/site-packages (from tensorflow[and-cuda]) (10.3.4.107)\n",
      "Requirement already satisfied: nvidia-cusolver-cu12==11.5.4.101 in /home/user/.local/lib/python3.11/site-packages (from tensorflow[and-cuda]) (11.5.4.101)\n",
      "Requirement already satisfied: nvidia-cusparse-cu12==12.2.0.103 in /home/user/.local/lib/python3.11/site-packages (from tensorflow[and-cuda]) (12.2.0.103)\n",
      "Requirement already satisfied: nvidia-nccl-cu12==2.19.3 in /home/user/.local/lib/python3.11/site-packages (from tensorflow[and-cuda]) (2.19.3)\n",
      "Requirement already satisfied: nvidia-nvjitlink-cu12==12.3.101 in /home/user/.local/lib/python3.11/site-packages (from tensorflow[and-cuda]) (12.3.101)\n",
      "Requirement already satisfied: nvidia-cublas-cu11 in /home/user/.local/lib/python3.11/site-packages (from nvidia-cudnn-cu11) (11.11.3.6)\n",
      "Requirement already satisfied: wheel<1.0,>=0.23.0 in /home/user/.local/lib/python3.11/site-packages (from astunparse>=1.6.0->tensorflow[and-cuda]) (0.43.0)\n",
      "Requirement already satisfied: rich in /home/user/.local/lib/python3.11/site-packages (from keras>=3.0.0->tensorflow[and-cuda]) (13.7.1)\n",
      "Requirement already satisfied: namex in /home/user/.local/lib/python3.11/site-packages (from keras>=3.0.0->tensorflow[and-cuda]) (0.0.7)\n",
      "Requirement already satisfied: optree in /home/user/.local/lib/python3.11/site-packages (from keras>=3.0.0->tensorflow[and-cuda]) (0.11.0)\n",
      "Requirement already satisfied: charset-normalizer<4,>=2 in /home/user/.local/lib/python3.11/site-packages (from requests<3,>=2.21.0->tensorflow[and-cuda]) (3.3.2)\n",
      "Requirement already satisfied: idna<4,>=2.5 in /home/user/.local/lib/python3.11/site-packages (from requests<3,>=2.21.0->tensorflow[and-cuda]) (3.6)\n",
      "Requirement already satisfied: urllib3<3,>=1.21.1 in /home/user/.local/lib/python3.11/site-packages (from requests<3,>=2.21.0->tensorflow[and-cuda]) (2.2.1)\n",
      "Requirement already satisfied: certifi>=2017.4.17 in /home/user/.local/lib/python3.11/site-packages (from requests<3,>=2.21.0->tensorflow[and-cuda]) (2024.2.2)\n",
      "Requirement already satisfied: markdown>=2.6.8 in /home/user/.local/lib/python3.11/site-packages (from tensorboard<2.17,>=2.16->tensorflow[and-cuda]) (3.6)\n",
      "Requirement already satisfied: tensorboard-data-server<0.8.0,>=0.7.0 in /home/user/.local/lib/python3.11/site-packages (from tensorboard<2.17,>=2.16->tensorflow[and-cuda]) (0.7.2)\n",
      "Requirement already satisfied: werkzeug>=1.0.1 in /home/user/.local/lib/python3.11/site-packages (from tensorboard<2.17,>=2.16->tensorflow[and-cuda]) (3.0.1)\n",
      "Requirement already satisfied: MarkupSafe>=2.1.1 in /home/user/.local/lib/python3.11/site-packages (from werkzeug>=1.0.1->tensorboard<2.17,>=2.16->tensorflow[and-cuda]) (2.1.5)\n",
      "Requirement already satisfied: markdown-it-py>=2.2.0 in /home/user/.local/lib/python3.11/site-packages (from rich->keras>=3.0.0->tensorflow[and-cuda]) (3.0.0)\n",
      "Requirement already satisfied: pygments<3.0.0,>=2.13.0 in /home/user/.local/lib/python3.11/site-packages (from rich->keras>=3.0.0->tensorflow[and-cuda]) (2.17.2)\n",
      "Requirement already satisfied: mdurl~=0.1 in /home/user/.local/lib/python3.11/site-packages (from markdown-it-py>=2.2.0->rich->keras>=3.0.0->tensorflow[and-cuda]) (0.1.2)\n"
     ]
    }
   ],
   "source": [
    "! python -m pip install --upgrade pip\n",
    "! pip install tensorflow[and-cuda] nvidia-cudnn-cu11"
   ]
  },
  {
   "cell_type": "code",
   "execution_count": 51,
   "id": "62dce48b",
   "metadata": {
    "ExecuteTime": {
     "end_time": "2021-04-05T21:27:50.646607Z",
     "start_time": "2021-04-05T21:27:48.767148Z"
    }
   },
   "outputs": [
    {
     "name": "stdout",
     "output_type": "stream",
     "text": [
      "OrderedDict([('cpu_compiler', '/usr/lib/llvm-17/bin/clang'), ('cuda_compute_capabilities', ['sm_50', 'sm_60', 'sm_70', 'sm_80', 'compute_90']), ('cuda_version', '12.3'), ('cudnn_version', '8'), ('is_cuda_build', True), ('is_rocm_build', False), ('is_tensorrt_build', True)])\n"
     ]
    }
   ],
   "source": [
    "import tensorflow as tf\n",
    "\n",
    "print(tf.sysconfig.get_build_info())\n",
    "\n",
    "# Verify that is_cuda_build == True\n",
    "#\n",
    "# OrderedDict([('cpu_compiler', '/usr/lib/llvm-17/bin/clang'), ('cuda_compute_capabilities', \n",
    "# ['sm_50', 'sm_60', 'sm_70', 'sm_80', 'compute_90']), ('cuda_version', '12.3'), ('cudnn_version', '8'), \n",
    "# ('is_cuda_build', True), ('is_rocm_build', False), ('is_tensorrt_build', True)])"
   ]
  },
  {
   "cell_type": "markdown",
   "id": "d72dc64d",
   "metadata": {},
   "source": [
    "### Check GPU Availability"
   ]
  },
  {
   "cell_type": "code",
   "execution_count": 52,
   "id": "591dce67",
   "metadata": {},
   "outputs": [
    {
     "name": "stdout",
     "output_type": "stream",
     "text": [
      "[]\n"
     ]
    },
    {
     "data": {
      "text/plain": [
       "[]"
      ]
     },
     "execution_count": 52,
     "metadata": {},
     "output_type": "execute_result"
    }
   ],
   "source": [
    "physical_devices = tf.config.list_physical_devices('GPU')\n",
    "print(physical_devices)\n",
    "\n",
    "# check GPU in tensorflow\n",
    "tf.config.list_physical_devices('GPU')\n",
    "\n",
    "# [PhysicalDevice(name='/physical_device:GPU:0', device_type='GPU')]"
   ]
  },
  {
   "cell_type": "code",
   "execution_count": 53,
   "id": "a94566fc",
   "metadata": {
    "ExecuteTime": {
     "end_time": "2021-04-05T21:28:56.536400Z",
     "start_time": "2021-04-05T21:28:56.531156Z"
    }
   },
   "outputs": [],
   "source": [
    "gpus = tf.config.experimental.list_physical_devices('GPU')\n",
    "for gpu in gpus:\n",
    "    print(\"Name:\", gpu.name, \"  Type:\", gpu.device_type)\n",
    "    \n",
    "# Name: /physical_device:GPU:0   Type: GPU"
   ]
  },
  {
   "cell_type": "code",
   "execution_count": 54,
   "id": "8da16412",
   "metadata": {
    "ExecuteTime": {
     "end_time": "2021-04-05T21:29:05.368039Z",
     "start_time": "2021-04-05T21:29:05.341012Z"
    }
   },
   "outputs": [
    {
     "name": "stderr",
     "output_type": "stream",
     "text": [
      "2024-03-28 21:08:20.720973: W tensorflow/core/common_runtime/gpu/gpu_device.cc:2251] Cannot dlopen some GPU libraries. Please make sure the missing libraries mentioned above are installed properly if you would like to use GPU. Follow the guide at https://www.tensorflow.org/install/gpu for how to download and setup the required libraries for your platform.\n",
      "Skipping registering GPU devices...\n"
     ]
    },
    {
     "data": {
      "text/plain": [
       "[name: \"/device:CPU:0\"\n",
       " device_type: \"CPU\"\n",
       " memory_limit: 268435456\n",
       " locality {\n",
       " }\n",
       " incarnation: 5469780595174359550\n",
       " xla_global_id: -1]"
      ]
     },
     "execution_count": 54,
     "metadata": {},
     "output_type": "execute_result"
    }
   ],
   "source": [
    "# list devices including GPUs with tensorflow\n",
    "\n",
    "from tensorflow.python.client import device_lib\n",
    "\n",
    "device_lib.list_local_devices()\n",
    "\n",
    "#  name: \"/device:GPU:0\"\n",
    "#  device_type: \"GPU\"\n",
    "#  memory_limit: 15509618688"
   ]
  }
 ],
 "metadata": {
  "finalized": {
   "timestamp": 1617657866863,
   "trusted": true
  },
  "kernelspec": {
   "display_name": "Python 3",
   "language": "python",
   "name": "python3"
  },
  "language_info": {
   "codemirror_mode": {
    "name": "ipython",
    "version": 3
   },
   "file_extension": ".py",
   "mimetype": "text/x-python",
   "name": "python",
   "nbconvert_exporter": "python",
   "pygments_lexer": "ipython3",
   "version": "3.11.5"
  },
  "toc": {
   "base_numbering": 1,
   "nav_menu": {},
   "number_sections": true,
   "sideBar": true,
   "skip_h1_title": false,
   "title_cell": "Table of Contents",
   "title_sidebar": "Contents",
   "toc_cell": false,
   "toc_position": {},
   "toc_section_display": true,
   "toc_window_display": false
  }
 },
 "nbformat": 4,
 "nbformat_minor": 5
}
